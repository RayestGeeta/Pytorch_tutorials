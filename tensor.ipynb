{
 "cells": [
  {
   "cell_type": "code",
   "execution_count": 17,
   "metadata": {},
   "outputs": [
    {
     "data": {
      "text/plain": [
       "tensor([[ 1.,  2.,  3.],\n",
       "        [ 4.,  5.,  6.]])"
      ]
     },
     "execution_count": 17,
     "metadata": {},
     "output_type": "execute_result"
    }
   ],
   "source": [
    "import torch as t\n",
    "a = t.Tensor([[1,2,3],[4,5,6]]) # list -> torch\n",
    "a"
   ]
  },
  {
   "cell_type": "code",
   "execution_count": 18,
   "metadata": {},
   "outputs": [
    {
     "data": {
      "text/plain": [
       "[[1.0, 2.0, 3.0], [4.0, 5.0, 6.0]]"
      ]
     },
     "execution_count": 18,
     "metadata": {},
     "output_type": "execute_result"
    }
   ],
   "source": [
    "a.tolist()  # torch -> list"
   ]
  },
  {
   "cell_type": "code",
   "execution_count": 26,
   "metadata": {},
   "outputs": [
    {
     "name": "stdout",
     "output_type": "stream",
     "text": [
      "torch.Size([2, 3])\n"
     ]
    },
    {
     "data": {
      "text/plain": [
       "6"
      ]
     },
     "execution_count": 26,
     "metadata": {},
     "output_type": "execute_result"
    }
   ],
   "source": [
    "a.size()   # the shape of tensor\n",
    "print(a.shape)\n",
    "a.numel()  # the total number of elements"
   ]
  },
  {
   "cell_type": "code",
   "execution_count": 25,
   "metadata": {},
   "outputs": [
    {
     "data": {
      "text/plain": [
       "([1.0, 2.0, 3.0], [4.0, 5.0, 6.0])"
      ]
     },
     "execution_count": 25,
     "metadata": {},
     "output_type": "execute_result"
    }
   ],
   "source": [
    "b = t.Tensor(((1,2,3),(4,5,6)))  # tuple -> tensor\n",
    "tuple(b.tolist())"
   ]
  },
  {
   "cell_type": "code",
   "execution_count": 31,
   "metadata": {},
   "outputs": [
    {
     "name": "stdout",
     "output_type": "stream",
     "text": [
      "tensor([[ 1.,  1.,  1.],\n",
      "        [ 1.,  1.,  1.]]) \t tensor([[ 0.,  0.,  0.],\n",
      "        [ 0.,  0.,  0.]]) \t tensor([ 0.,  3.,  6.,  9.]) \t tensor([  0.,   6.,  12.])\n"
     ]
    }
   ],
   "source": [
    "c = t.ones(2,3)  # create a tensor(size = 2x3) whose elements are all one\n",
    "d = t.zeros(2,3)  # create a tensor whose elements are 0\n",
    "e = t.arange(0,12,3)  # create a tensor(size = n*1) which is within a range of 0 to 11 and a distance of 3\n",
    "f = t.linspace(0,12,3)  # create a tensor(size = n*1) which is within a range of 0 to 11 and divided into 3 parts\n",
    "print(c,'\\t', d, '\\t', e, '\\t', f)"
   ]
  },
  {
   "cell_type": "code",
   "execution_count": 39,
   "metadata": {},
   "outputs": [
    {
     "name": "stdout",
     "output_type": "stream",
     "text": [
      "tensor([[ 0.8974,  0.4957,  0.8911],\n",
      "        [ 0.7395,  0.9890,  0.5776]]) tensor([[ 1.3443, -0.8971,  0.3569],\n",
      "        [-0.3426, -1.9804, -0.0482]]) tensor([ 2.0464]) tensor([ 9,  6,  0,  8,  7,  1,  2,  3,  5,  4])\n"
     ]
    }
   ],
   "source": [
    "g = t.rand(2,3)  # the tensor is within -1 to 1 and is uniform distribution\n",
    "h = t.randn(2,3)  # which is standard distribution\n",
    "i = t.normal(t.Tensor((1,)),t.Tensor((1,)))  # mean = 1 ,std = 1,i is a random number which is normal state form them\n",
    "j = t.randperm(10)  # it is random order for 0 to 9\n",
    "print(g, h, i, j)"
   ]
  },
  {
   "cell_type": "code",
   "execution_count": 40,
   "metadata": {},
   "outputs": [
    {
     "data": {
      "text/plain": [
       "(tensor([ 0.,  1.,  2.,  3.,  4.,  5.]), tensor([[ 0.,  1.,  2.],\n",
       "         [ 3.,  4.,  5.]]))"
      ]
     },
     "execution_count": 40,
     "metadata": {},
     "output_type": "execute_result"
    }
   ],
   "source": [
    "a = t.arange(6)\n",
    "b = a.view(2,3)\n",
    "a,b  # a and b are share the same space."
   ]
  },
  {
   "cell_type": "code",
   "execution_count": 59,
   "metadata": {},
   "outputs": [
    {
     "data": {
      "text/plain": [
       "tensor([[ 0.,  1.,  2.],\n",
       "        [ 3.,  4.,  5.]])"
      ]
     },
     "execution_count": 59,
     "metadata": {},
     "output_type": "execute_result"
    }
   ],
   "source": [
    "b = a.view(-1, 3)  # if a size == -1,tensor will automaticly calculate.\n",
    "b"
   ]
  },
  {
   "cell_type": "code",
   "execution_count": 60,
   "metadata": {},
   "outputs": [
    {
     "data": {
      "text/plain": [
       "tensor([[[ 0.,  1.,  2.],\n",
       "         [ 3.,  4.,  5.]]])"
      ]
     },
     "execution_count": 60,
     "metadata": {},
     "output_type": "execute_result"
    }
   ],
   "source": [
    "c = b.unsqueeze(0)   # it will add a dimension in subscript which is 0\n",
    "c"
   ]
  },
  {
   "cell_type": "code",
   "execution_count": 65,
   "metadata": {},
   "outputs": [
    {
     "data": {
      "text/plain": [
       "tensor([[ 0.,  1.,  2.],\n",
       "        [ 3.,  4.,  5.]])"
      ]
     },
     "execution_count": 65,
     "metadata": {},
     "output_type": "execute_result"
    }
   ],
   "source": [
    "d = c.squeeze(0)   # it will compress a dimension in subscript = 0   squeeze only can compress the dimension = 1\n",
    "c.squeeze()  # the dimenson which is 1  will be all compressed."
   ]
  },
  {
   "cell_type": "code",
   "execution_count": 71,
   "metadata": {},
   "outputs": [
    {
     "data": {
      "text/plain": [
       "tensor([[ 0.,  1.,  2.,  3.,  4.,  5.]])"
      ]
     },
     "execution_count": 71,
     "metadata": {},
     "output_type": "execute_result"
    }
   ],
   "source": [
    "# adjust the size \n",
    "c = b.reshape(1,6)  # resize()  resize_()"
   ]
  },
  {
   "cell_type": "code",
   "execution_count": 73,
   "metadata": {},
   "outputs": [
    {
     "data": {
      "text/plain": [
       "tensor([[ 0.0000,  1.0000,  2.0000],\n",
       "        [ 3.0000,  4.0000,  5.0000],\n",
       "        [ 0.0000,  0.0000,  0.0000]])"
      ]
     },
     "execution_count": 73,
     "metadata": {},
     "output_type": "execute_result"
    }
   ],
   "source": [
    "# if reshaped size is beyond the data.It will be distrubuted new space.\n",
    "b.resize_(3,3)"
   ]
  },
  {
   "cell_type": "code",
   "execution_count": 75,
   "metadata": {},
   "outputs": [
    {
     "data": {
      "text/plain": [
       "tensor([[ 0.,  1.],\n",
       "        [ 3.,  4.]])"
      ]
     },
     "execution_count": 75,
     "metadata": {},
     "output_type": "execute_result"
    }
   ],
   "source": [
    "# torch supposes the normal indexes.\n",
    "b[:2,0:2]"
   ]
  },
  {
   "cell_type": "code",
   "execution_count": 76,
   "metadata": {},
   "outputs": [
    {
     "data": {
      "text/plain": [
       "tensor([[ 0,  0,  1],\n",
       "        [ 1,  1,  1],\n",
       "        [ 0,  0,  0]], dtype=torch.uint8)"
      ]
     },
     "execution_count": 76,
     "metadata": {},
     "output_type": "execute_result"
    }
   ],
   "source": [
    "b>1  # it will return a bytetensor"
   ]
  },
  {
   "cell_type": "code",
   "execution_count": 77,
   "metadata": {},
   "outputs": [
    {
     "data": {
      "text/plain": [
       "tensor([ 2.,  3.,  4.,  5.])"
      ]
     },
     "execution_count": 77,
     "metadata": {},
     "output_type": "execute_result"
    }
   ],
   "source": [
    "b[b>1]"
   ]
  },
  {
   "cell_type": "code",
   "execution_count": 1,
   "metadata": {},
   "outputs": [
    {
     "data": {
      "text/plain": [
       "torch.Size([1, 4])"
      ]
     },
     "execution_count": 1,
     "metadata": {},
     "output_type": "execute_result"
    }
   ],
   "source": [
    "import torch as t\n",
    "a = t.Tensor([[1,2,3,4]])\n",
    "a.size()"
   ]
  },
  {
   "cell_type": "code",
   "execution_count": 2,
   "metadata": {},
   "outputs": [
    {
     "data": {
      "text/plain": [
       "tensor([[  0.,   1.,   2.,   3.],\n",
       "        [  4.,   5.,   6.,   7.],\n",
       "        [  8.,   9.,  10.,  11.]])"
      ]
     },
     "execution_count": 2,
     "metadata": {},
     "output_type": "execute_result"
    }
   ],
   "source": [
    "a = t.arange(0,12).reshape(3,4)\n",
    "a"
   ]
  },
  {
   "cell_type": "code",
   "execution_count": 34,
   "metadata": {},
   "outputs": [
    {
     "name": "stdout",
     "output_type": "stream",
     "text": [
      "tensor([[ 1.],\n",
      "        [ 5.],\n",
      "        [ 9.]]) tensor([  8.,   9.,  10.,  11.]) tensor([[ 0,  1],\n",
      "        [ 0,  2],\n",
      "        [ 0,  3],\n",
      "        [ 1,  0],\n",
      "        [ 1,  1],\n",
      "        [ 1,  2],\n",
      "        [ 1,  3],\n",
      "        [ 2,  0],\n",
      "        [ 2,  1],\n",
      "        [ 2,  2],\n",
      "        [ 2,  3]]) tensor([[ 0.,  1.,  2.,  3.]])\n"
     ]
    }
   ],
   "source": [
    "# some examples about the choosed functions\n",
    "b = t.index_select(a,1,t.LongTensor((1,)))\n",
    "c = t.masked_select(a,a>7)\n",
    "d = t.nonzero(a)  #return the elements's subscript which is not zero\n",
    "f = a.gather(0, t.LongTensor([[0,0,0,0]]))  # index needs to have the same dimensions with the tensor\n",
    "print(b,c,d,f)"
   ]
  },
  {
   "cell_type": "code",
   "execution_count": 36,
   "metadata": {},
   "outputs": [
    {
     "data": {
      "text/plain": [
       "tensor([[  0.,   4.,   8.],\n",
       "        [  1.,   5.,   9.],\n",
       "        [  2.,   6.,  10.],\n",
       "        [  3.,   7.,  11.]])"
      ]
     },
     "execution_count": 36,
     "metadata": {},
     "output_type": "execute_result"
    }
   ],
   "source": [
    "g = a.t()  # a's transposition\n",
    "g"
   ]
  },
  {
   "cell_type": "code",
   "execution_count": null,
   "metadata": {},
   "outputs": [],
   "source": []
  },
  {
   "cell_type": "code",
   "execution_count": 48,
   "metadata": {},
   "outputs": [
    {
     "data": {
      "text/plain": [
       "tensor([[[  9.,  10.,  11.],\n",
       "         [ 12.,  13.,  14.],\n",
       "         [ 15.,  16.,  17.]],\n",
       "\n",
       "        [[ 18.,  19.,  20.],\n",
       "         [ 21.,  22.,  23.],\n",
       "         [ 24.,  25.,  26.]]])"
      ]
     },
     "execution_count": 48,
     "metadata": {},
     "output_type": "execute_result"
    }
   ],
   "source": [
    "x = t.arange(0,27).view(3,3,3)\n",
    "x[[1,0],[1,2],[1,2]]  # index the (1,1,1) and (0,2,2)\n",
    "x[1:]"
   ]
  },
  {
   "cell_type": "code",
   "execution_count": 57,
   "metadata": {},
   "outputs": [
    {
     "data": {
      "text/plain": [
       "tensor([[[  0.,   1.,   2.],\n",
       "         [  3.,   4.,   5.],\n",
       "         [  6.,   7.,   8.]],\n",
       "\n",
       "        [[  9.,  10.,  11.],\n",
       "         [ 12.,  13.,  14.],\n",
       "         [ 15.,  16.,  17.]],\n",
       "\n",
       "        [[ 18.,  19.,  20.],\n",
       "         [ 21.,  22.,  23.],\n",
       "         [ 24.,  25.,  26.]]])"
      ]
     },
     "execution_count": 57,
     "metadata": {},
     "output_type": "execute_result"
    }
   ],
   "source": [
    "x.type()\n",
    "x = x.int()  # translate the float to int(double,byte,char,short,Long)\n",
    "x.type(t.FloatTensor)\n",
    "x.type()\n",
    "x.type_as(a)  # make x.type  =  a.type"
   ]
  },
  {
   "cell_type": "code",
   "execution_count": 60,
   "metadata": {},
   "outputs": [],
   "source": [
    "y = x.new(2,3)  # x.type = y.type"
   ]
  },
  {
   "cell_type": "code",
   "execution_count": 68,
   "metadata": {},
   "outputs": [
    {
     "name": "stdout",
     "output_type": "stream",
     "text": [
      "tensor([[[ 1.0000,  0.5403, -0.4161],\n",
      "         [-0.9900, -0.6536,  0.2837],\n",
      "         [ 0.9602,  0.7539, -0.1455]],\n",
      "\n",
      "        [[-0.9111, -0.8391,  0.0044],\n",
      "         [ 0.8439,  0.9074,  0.1367],\n",
      "         [-0.7597, -0.9577, -0.2752]],\n",
      "\n",
      "        [[ 0.6603,  0.9887,  0.4081],\n",
      "         [-0.5477, -1.0000, -0.5328],\n",
      "         [ 0.4242,  0.9912,  0.6469]]])\n",
      "tensor([[[  0.,   1.,   2.],\n",
      "         [  3.,   4.,   5.],\n",
      "         [  6.,   7.,   8.]],\n",
      "\n",
      "        [[  9.,  10.,  11.],\n",
      "         [ 12.,  13.,  14.],\n",
      "         [ 15.,  16.,  17.]],\n",
      "\n",
      "        [[ 18.,  19.,  20.],\n",
      "         [ 21.,  22.,  23.],\n",
      "         [ 24.,  25.,  26.]]])\n"
     ]
    }
   ],
   "source": [
    "# elements-wise\n",
    "x = t.arange(0,27).reshape(3,3,3)\n",
    "print(t.cos(x))\n",
    "t.clamp(x,1,4)  #if x[i]<1 : x[i]=1;else x[i]>4:x[i]=4\n",
    "print(x)"
   ]
  },
  {
   "cell_type": "code",
   "execution_count": 70,
   "metadata": {},
   "outputs": [
    {
     "data": {
      "text/plain": [
       "tensor([[  3.,   4.,   5.],\n",
       "        [ 12.,  13.,  14.],\n",
       "        [ 21.,  22.,  23.]])"
      ]
     },
     "execution_count": 70,
     "metadata": {},
     "output_type": "execute_result"
    }
   ],
   "source": [
    "#merge operation :mean/sum/median/mode   norm/dist std/var  cumsum/cumprod\n",
    "x1 = x.mean(dim = 1)  # x1[0][0] = dum(x[0][i][0])/3  i=[0,1,2]\n",
    "x1"
   ]
  },
  {
   "cell_type": "code",
   "execution_count": 81,
   "metadata": {},
   "outputs": [
    {
     "data": {
      "text/plain": [
       "(tensor([[  2.,   5.,   8.],\n",
       "         [ 11.,  14.,  17.],\n",
       "         [ 20.,  23.,  26.]]), tensor([[ 2,  2,  2],\n",
       "         [ 2,  2,  2],\n",
       "         [ 2,  2,  2]]))"
      ]
     },
     "execution_count": 81,
     "metadata": {},
     "output_type": "execute_result"
    }
   ],
   "source": [
    "t.max(x,dim=2)  # first tensor stands for the max. second stands for the subcript which corresponds with the max one by one."
   ]
  },
  {
   "cell_type": "code",
   "execution_count": 83,
   "metadata": {},
   "outputs": [
    {
     "data": {
      "text/plain": [
       "False"
      ]
     },
     "execution_count": 83,
     "metadata": {},
     "output_type": "execute_result"
    }
   ],
   "source": [
    "y = x.t()  # translation will result to the space which isn't is continuous\n",
    "y.is_contiguous()"
   ]
  },
  {
   "cell_type": "code",
   "execution_count": 86,
   "metadata": {},
   "outputs": [
    {
     "data": {
      "text/plain": [
       "False"
      ]
     },
     "execution_count": 86,
     "metadata": {},
     "output_type": "execute_result"
    }
   ],
   "source": [
    "y.contiguous()\n",
    "y.is_contiguous()"
   ]
  },
  {
   "cell_type": "code",
   "execution_count": 10,
   "metadata": {},
   "outputs": [
    {
     "name": "stdout",
     "output_type": "stream",
     "text": [
      "[[0 1]\n",
      " [2 3]\n",
      " [4 5]] tensor([[ 0,  1],\n",
      "        [ 2,  3],\n",
      "        [ 4,  5]], dtype=torch.int32) [[0 1]\n",
      " [2 3]\n",
      " [4 5]]\n",
      "[[1 1]\n",
      " [2 3]\n",
      " [4 5]] tensor([[ 1,  1],\n",
      "        [ 2,  3],\n",
      "        [ 4,  5]], dtype=torch.int32) [[1 1]\n",
      " [2 3]\n",
      " [4 5]]\n"
     ]
    }
   ],
   "source": [
    "import numpy as np\n",
    "import torch as t\n",
    "a = np.arange(0,6).reshape(3,2)\n",
    "b = t.from_numpy(a)   # t.Tensor(a)\n",
    "c = b.numpy()\n",
    "print(a, b, c)\n",
    "a[0,0] = 1\n",
    "print(a, b, c)   # a,b and c share the same space."
   ]
  },
  {
   "cell_type": "code",
   "execution_count": 17,
   "metadata": {},
   "outputs": [
    {
     "data": {
      "text/plain": [
       "tensor([[[  1.,   2.],\n",
       "         [  4.,   6.],\n",
       "         [  8.,  10.]],\n",
       "\n",
       "        [[  7.,   8.],\n",
       "         [ 10.,  12.],\n",
       "         [ 14.,  16.]]])"
      ]
     },
     "execution_count": 17,
     "metadata": {},
     "output_type": "execute_result"
    }
   ],
   "source": [
    "d = t.arange(0,12).reshape(2,3,2)\n",
    "b.unsqueeze(0).expand(2,3,2).type(t.FloatTensor)+d  #Broadcast:unsqueeze,expand and expand doesn't add the sapce\n",
    "b.float()+d  # pytorch can carry out broadcast automaticly."
   ]
  },
  {
   "cell_type": "code",
   "execution_count": 68,
   "metadata": {},
   "outputs": [
    {
     "name": "stdout",
     "output_type": "stream",
     "text": [
      " 0.0\n",
      " 1.0\n",
      " 2.0\n",
      " 3.0\n",
      " 4.0\n",
      " 5.0\n",
      "[torch.FloatStorage of size 6]  0.0\n",
      " 1.0\n",
      " 2.0\n",
      " 3.0\n",
      " 4.0\n",
      " 5.0\n",
      "[torch.FloatStorage of size 6]\n"
     ]
    },
    {
     "data": {
      "text/plain": [
       "True"
      ]
     },
     "execution_count": 68,
     "metadata": {},
     "output_type": "execute_result"
    }
   ],
   "source": [
    "# a tensor includes the Tensor(size,stride,type) and the Storage(data,space)\n",
    "a = t.arange(0,6).reshape(2,3)\n",
    "a.storage(),id(a.storage()),id(a)\n",
    "# This operation is like the c language's points.\n",
    "c = a[0,1]\n",
    "print(c.storage(),a.storage())  #their storages are the same.\n",
    "d = t.Tensor(a.storage())\n",
    "id(a.storage()) == id(b.storage()) == id(c.storage())"
   ]
  },
  {
   "cell_type": "code",
   "execution_count": 69,
   "metadata": {},
   "outputs": [],
   "source": [
    "t.save(a,'a.pth')  # save a tensor as a finder(pth) "
   ]
  },
  {
   "cell_type": "code",
   "execution_count": 72,
   "metadata": {},
   "outputs": [
    {
     "data": {
      "text/plain": [
       "(tensor([[ 0.,  1.,  2.],\n",
       "         [ 3.,  4.,  5.]]), tensor([[ 0.,  1.,  2.],\n",
       "         [ 3.,  4.,  5.]]))"
      ]
     },
     "execution_count": 72,
     "metadata": {},
     "output_type": "execute_result"
    }
   ],
   "source": [
    "b = t.load('a.pth')  # reload a tensor\n",
    "b,a"
   ]
  },
  {
   "cell_type": "code",
   "execution_count": 84,
   "metadata": {},
   "outputs": [
    {
     "name": "stdout",
     "output_type": "stream",
     "text": [
      "The slowest run took 4.60 times longer than the fastest. This could mean that an intermediate result is being cached.\n",
      "22.6 µs ± 17 µs per loop (mean ± std. dev. of 7 runs, 10 loops each)\n",
      "1.96 ms ± 175 µs per loop (mean ± std. dev. of 7 runs, 100 loops each)\n"
     ]
    }
   ],
   "source": [
    "x = t.zeros(100)\n",
    "y = t.ones(100)\n",
    "%timeit -n 10 x+y  # using the vector can save more time.\n",
    "%timeit -n 100 for i,j in zip(x,y): i+j"
   ]
  },
  {
   "cell_type": "code",
   "execution_count": 94,
   "metadata": {},
   "outputs": [
    {
     "data": {
      "image/png": "[encoded data removed]",
      "text/plain": [
       "<matplotlib.figure.Figure at 0x28c81d95eb8>"
      ]
     },
     "metadata": {},
     "output_type": "display_data"
    }
   ],
   "source": [
    "# example: linear regression\n",
    "import matplotlib.pyplot as plt\n",
    "t.manual_seed(1000)  # set up the random seed\n",
    "def get_fake_data(batch_size = 8):\n",
    "    x = t.rand(batch_size, 1)*20\n",
    "    y = x*2 + (1 + t.rand(x.size()))*3  # add the noise error\n",
    "    return x,y\n",
    "x,y = get_fake_data()\n",
    "plt.scatter(x.squeeze().numpy(),y.squeeze().numpy())\n",
    "plt.show()"
   ]
  },
  {
   "cell_type": "code",
   "execution_count": null,
   "metadata": {},
   "outputs": [],
   "source": []
  }
 ],
 "metadata": {
  "kernelspec": {
   "display_name": "Python 3",
   "language": "python",
   "name": "python3"
  },
  "language_info": {
   "codemirror_mode": {
    "name": "ipython",
    "version": 3
   },
   "file_extension": ".py",
   "mimetype": "text/x-python",
   "name": "python",
   "nbconvert_exporter": "python",
   "pygments_lexer": "ipython3",
   "version": "3.6.4"
  }
 },
 "nbformat": 4,
 "nbformat_minor": 2
}
